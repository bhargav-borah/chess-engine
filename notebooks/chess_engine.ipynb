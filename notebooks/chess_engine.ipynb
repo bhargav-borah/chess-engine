{
 "cells": [
  {
   "cell_type": "markdown",
   "metadata": {
    "id": "L9VwYL1W59D-"
   },
   "source": [
    "* The ChessMain class is responsible for storing all the information about the current state of a chess game.\n",
    "* It will also be responsible for determining the valid moves at the current state. It will also keep a move log."
   ]
  },
  {
   "cell_type": "code",
   "execution_count": 2,
   "metadata": {
    "colab": {
     "base_uri": "https://localhost:8080/"
    },
    "id": "C8aTwR0s7ETv",
    "outputId": "4171b33f-d823-470e-ea18-80cc4f1ae89c"
   },
   "outputs": [
    {
     "name": "stdout",
     "output_type": "stream",
     "text": [
      "pygame 2.5.2 (SDL 2.28.3, Python 3.9.13)\n",
      "Hello from the pygame community. https://www.pygame.org/contribute.html\n"
     ]
    }
   ],
   "source": [
    "import pygame as p"
   ]
  },
  {
   "cell_type": "code",
   "execution_count": 3,
   "metadata": {
    "id": "0PRgzfRXAJ59"
   },
   "outputs": [],
   "source": [
    "p.init()\n",
    "\n",
    "WIDTH = HEIGHT = 512\n",
    "DIMENSION = 8\n",
    "SQ_SIZE = HEIGHT // DIMENSION\n",
    "MAX_FPS = 15 # for animation purposes\n",
    "IMAGES = {}"
   ]
  },
  {
   "cell_type": "code",
   "execution_count": 4,
   "metadata": {
    "id": "sRhmaPee6bSf"
   },
   "outputs": [],
   "source": [
    "class GameState():\n",
    "    \"\"\"\n",
    "      - The board is an 8x8 Python list. Each element of the list if a string of length 2.\n",
    "      - Squares on the board currently not occupied are represented by '--'. The two dashes have been chosen for the sake of consistency with representation of occupied squares.\n",
    "      - The first character of the string (which is always in lower case) representing an occupied square is indicates  the color of the piece, w for white and b for black.\n",
    "      - The second character of the string (which is always in upper case) represents the type of piece (R for rook, N for knight, B for bishop, K for king, Q for queen, and P for pawn).\n",
    "    \"\"\"\n",
    "    def __init__(self):\n",
    "        self.board = [\n",
    "            ['bR', 'bN', 'bB', 'bQ', 'bK', 'bB', 'bN', 'bR'],\n",
    "            ['bP' for _ in range(8)],\n",
    "            ['--' for _ in range(8)],\n",
    "            ['--' for _ in range(8)],\n",
    "            ['--' for _ in range(8)],\n",
    "            ['--' for _ in range(8)],\n",
    "            ['wP' for _ in range(8)],\n",
    "            ['wR', 'wN', 'wB', 'wQ', 'wK', 'wB', 'wN', 'wR'],\n",
    "        ]\n",
    "        self.white_to_move = True\n",
    "        self.move_log = []"
   ]
  },
  {
   "cell_type": "code",
   "execution_count": 5,
   "metadata": {
    "id": "WWnwaGYeAOX6"
   },
   "outputs": [],
   "source": [
    "def load_images():\n",
    "    \"\"\"\n",
    "    Initialize a global dictionary for images. This will be called exactly once in the main function.\n",
    "    \"\"\"\n",
    "    pieces = [color + piece for color in ['w', 'b'] for piece in ['R', 'N', 'B', 'Q', 'K']]\n",
    "    for piece in pieces:\n",
    "        IMAGES[piece] = p.transform.scale( p.image.load('../images/' + piece + '.png'), (SQ_SIZE, SQ_SIZE))\n",
    "    \n",
    "    \n",
    "    \n",
    "        \n"
   ]
  },
  {
   "cell_type": "code",
   "execution_count": 6,
   "metadata": {},
   "outputs": [
    {
     "data": {
      "text/plain": [
       "<Surface(920x920x8 SW)>"
      ]
     },
     "execution_count": 6,
     "metadata": {},
     "output_type": "execute_result"
    }
   ],
   "source": [
    "p.image.load('../images/bR.png')"
   ]
  },
  {
   "cell_type": "code",
   "execution_count": 7,
   "metadata": {},
   "outputs": [
    {
     "ename": "NameError",
     "evalue": "name 'pieces' is not defined",
     "output_type": "error",
     "traceback": [
      "\u001b[1;31m---------------------------------------------------------------------------\u001b[0m",
      "\u001b[1;31mNameError\u001b[0m                                 Traceback (most recent call last)",
      "\u001b[1;32m~\\AppData\\Local\\Temp\\ipykernel_7068\\2650216821.py\u001b[0m in \u001b[0;36m<module>\u001b[1;34m\u001b[0m\n\u001b[1;32m----> 1\u001b[1;33m \u001b[0mpieces\u001b[0m\u001b[1;33m\u001b[0m\u001b[1;33m\u001b[0m\u001b[0m\n\u001b[0m",
      "\u001b[1;31mNameError\u001b[0m: name 'pieces' is not defined"
     ]
    }
   ],
   "source": [
    "pieces"
   ]
  },
  {
   "cell_type": "code",
   "execution_count": 13,
   "metadata": {},
   "outputs": [],
   "source": [
    "def main():\n",
    "    p.init()\n",
    "    screen = p.display.set_mode((WIDTH, HEIGHT))\n",
    "    clock = p.time.Clock()\n",
    "    screen.fill(p.Color('white'))\n",
    "    \n",
    "    gs = GameState()\n",
    "    load_images() # do this only once, before the for loop\n",
    "#     print(gs.board)\n",
    "    running = True\n",
    "    while running:\n",
    "        for e in p.event.get():\n",
    "            if e.type == p.QUIT:\n",
    "                running = False\n",
    "        draw_game_state(screen, gs)\n",
    "        clock.tick(MAX_FPS)\n",
    "        p.display.flip()\n",
    "\n",
    "def draw_game_state(screen, gs):\n",
    "    \"\"\"\n",
    "    Responsible for all the graphics within the current game state\n",
    "    \"\"\"\n",
    "    draw_board(screen) # draw the squares on the board\n",
    "    # add in piece highlighting and move suggestions (later)\n",
    "    draw_pieces(screen , gs.board) # draw pieces on top of those squares\n",
    "    \n",
    "def draw_board(screen):\n",
    "    \"\"\"\n",
    "    Draw the squares of the board\n",
    "    Note: The top left square is \n",
    "    \"\"\"\n",
    "    colors = [p.Color('white'), p.Color('gray')]\n",
    "    for r in range(DIMENSION):\n",
    "        for c in range(DIMENSION):\n",
    "            color = colors[(r + c) % 2]\n",
    "            p.draw.rect(screen, color, p.Rect(c * SQ_SIZE, r * SQ_SIZE, SQ_SIZE, SQ_SIZE))\n",
    "    \n",
    "def draw_pieces(screen, board):\n",
    "    \"\"\"\n",
    "    Draw the pieces on the board using the current GameState.board\n",
    "    \"\"\"\n",
    "    for r in range(DIMENSION):\n",
    "        for c in range(DIMENSION):\n",
    "            piece = board[r][c]\n",
    "            if piece != '--':\n",
    "                screen.blit(IMAGES[piece], p.Rect(c * SQ_SIZE, r * SQ_SIZE, SQ_SIZE, SQ_SIZE))\n",
    "\n"
   ]
  },
  {
   "cell_type": "code",
   "execution_count": 14,
   "metadata": {},
   "outputs": [],
   "source": [
    "main()"
   ]
  },
  {
   "cell_type": "code",
   "execution_count": 10,
   "metadata": {},
   "outputs": [
    {
     "data": {
      "text/plain": [
       "<Surface(512x512x32 SW)>"
      ]
     },
     "execution_count": 10,
     "metadata": {},
     "output_type": "execute_result"
    }
   ],
   "source": [
    "screen = p.display.set_mode((WIDTH, HEIGHT))\n",
    "screen"
   ]
  },
  {
   "cell_type": "code",
   "execution_count": null,
   "metadata": {},
   "outputs": [],
   "source": []
  }
 ],
 "metadata": {
  "colab": {
   "provenance": []
  },
  "kernelspec": {
   "display_name": "Python 3 (ipykernel)",
   "language": "python",
   "name": "python3"
  },
  "language_info": {
   "codemirror_mode": {
    "name": "ipython",
    "version": 3
   },
   "file_extension": ".py",
   "mimetype": "text/x-python",
   "name": "python",
   "nbconvert_exporter": "python",
   "pygments_lexer": "ipython3",
   "version": "3.9.13"
  }
 },
 "nbformat": 4,
 "nbformat_minor": 1
}
